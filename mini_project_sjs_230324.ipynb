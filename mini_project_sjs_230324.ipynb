{
 "cells": [
  {
   "cell_type": "code",
   "execution_count": 1,
   "metadata": {},
   "outputs": [],
   "source": [
    "import pandas as pd\n",
    "import numpy as np\n",
    "import matplotlib.pyplot as plt\n",
    "import seaborn as sns  "
   ]
  },
  {
   "cell_type": "code",
   "execution_count": null,
   "metadata": {},
   "outputs": [],
   "source": [
    "#한글폰트 설치\n",
    "from matplotlib import font_manager, rc\n",
    "font_path = \"C:/Windows/Fonts/MALGUN.TTF\"\n",
    "font = font_manager.FontProperties(fname=font_path).get_name()\n",
    "rc('font', family=font)"
   ]
  },
  {
   "cell_type": "code",
   "execution_count": 2,
   "metadata": {},
   "outputs": [
    {
     "data": {
      "text/html": [
       "<div>\n",
       "<style scoped>\n",
       "    .dataframe tbody tr th:only-of-type {\n",
       "        vertical-align: middle;\n",
       "    }\n",
       "\n",
       "    .dataframe tbody tr th {\n",
       "        vertical-align: top;\n",
       "    }\n",
       "\n",
       "    .dataframe thead th {\n",
       "        text-align: right;\n",
       "    }\n",
       "</style>\n",
       "<table border=\"1\" class=\"dataframe\">\n",
       "  <thead>\n",
       "    <tr style=\"text-align: right;\">\n",
       "      <th></th>\n",
       "      <th>Unnamed: 0</th>\n",
       "      <th>전용면적</th>\n",
       "      <th>거래금액</th>\n",
       "      <th>층</th>\n",
       "      <th>건축년도</th>\n",
       "      <th>계약년월일</th>\n",
       "      <th>면적당가격</th>\n",
       "      <th>구</th>\n",
       "      <th>동</th>\n",
       "      <th>계약년</th>\n",
       "      <th>...</th>\n",
       "      <th>유로</th>\n",
       "      <th>소비자물가지수</th>\n",
       "      <th>소비자물가지수(전월 대비 증감률)</th>\n",
       "      <th>KOSPI_종가</th>\n",
       "      <th>KOSDAQ_종가</th>\n",
       "      <th>무담보콜금리(1일)</th>\n",
       "      <th>KORIBOR(3개월)</th>\n",
       "      <th>CD(91일)</th>\n",
       "      <th>국고채(1년)</th>\n",
       "      <th>국고채(10년)</th>\n",
       "    </tr>\n",
       "  </thead>\n",
       "  <tbody>\n",
       "    <tr>\n",
       "      <th>0</th>\n",
       "      <td>0</td>\n",
       "      <td>59.97</td>\n",
       "      <td>21100</td>\n",
       "      <td>8</td>\n",
       "      <td>2006</td>\n",
       "      <td>2007-01-01</td>\n",
       "      <td>351.842588</td>\n",
       "      <td>강동구</td>\n",
       "      <td>길동</td>\n",
       "      <td>2007</td>\n",
       "      <td>...</td>\n",
       "      <td>1220.07</td>\n",
       "      <td>76.496</td>\n",
       "      <td>0.2</td>\n",
       "      <td>1360.23</td>\n",
       "      <td>576.37</td>\n",
       "      <td>4.63</td>\n",
       "      <td>4.91</td>\n",
       "      <td>4.92</td>\n",
       "      <td>4.98</td>\n",
       "      <td>5.04</td>\n",
       "    </tr>\n",
       "    <tr>\n",
       "      <th>1</th>\n",
       "      <td>1</td>\n",
       "      <td>59.34</td>\n",
       "      <td>22000</td>\n",
       "      <td>8</td>\n",
       "      <td>1996</td>\n",
       "      <td>2007-01-01</td>\n",
       "      <td>370.744860</td>\n",
       "      <td>노원구</td>\n",
       "      <td>중계동</td>\n",
       "      <td>2007</td>\n",
       "      <td>...</td>\n",
       "      <td>1220.07</td>\n",
       "      <td>76.496</td>\n",
       "      <td>0.2</td>\n",
       "      <td>1360.23</td>\n",
       "      <td>576.37</td>\n",
       "      <td>4.63</td>\n",
       "      <td>4.91</td>\n",
       "      <td>4.92</td>\n",
       "      <td>4.98</td>\n",
       "      <td>5.04</td>\n",
       "    </tr>\n",
       "    <tr>\n",
       "      <th>2</th>\n",
       "      <td>2</td>\n",
       "      <td>84.99</td>\n",
       "      <td>31500</td>\n",
       "      <td>10</td>\n",
       "      <td>2000</td>\n",
       "      <td>2007-01-01</td>\n",
       "      <td>370.631839</td>\n",
       "      <td>성북구</td>\n",
       "      <td>정릉동</td>\n",
       "      <td>2007</td>\n",
       "      <td>...</td>\n",
       "      <td>1220.07</td>\n",
       "      <td>76.496</td>\n",
       "      <td>0.2</td>\n",
       "      <td>1360.23</td>\n",
       "      <td>576.37</td>\n",
       "      <td>4.63</td>\n",
       "      <td>4.91</td>\n",
       "      <td>4.92</td>\n",
       "      <td>4.98</td>\n",
       "      <td>5.04</td>\n",
       "    </tr>\n",
       "  </tbody>\n",
       "</table>\n",
       "<p>3 rows × 27 columns</p>\n",
       "</div>"
      ],
      "text/plain": [
       "   Unnamed: 0   전용면적   거래금액   층  건축년도       계약년월일       면적당가격    구    동   계약년  \\\n",
       "0           0  59.97  21100   8  2006  2007-01-01  351.842588  강동구   길동  2007   \n",
       "1           1  59.34  22000   8  1996  2007-01-01  370.744860  노원구  중계동  2007   \n",
       "2           2  84.99  31500  10  2000  2007-01-01  370.631839  성북구  정릉동  2007   \n",
       "\n",
       "   ...       유로  소비자물가지수  소비자물가지수(전월 대비 증감률)   KOSPI_종가    KOSDAQ_종가  \\\n",
       "0  ...  1220.07   76.496                 0.2    1360.23       576.37   \n",
       "1  ...  1220.07   76.496                 0.2    1360.23       576.37   \n",
       "2  ...  1220.07   76.496                 0.2    1360.23       576.37   \n",
       "\n",
       "     무담보콜금리(1일)  KORIBOR(3개월)  CD(91일)  국고채(1년)  국고채(10년)  \n",
       "0          4.63          4.91     4.92     4.98      5.04  \n",
       "1          4.63          4.91     4.92     4.98      5.04  \n",
       "2          4.63          4.91     4.92     4.98      5.04  \n",
       "\n",
       "[3 rows x 27 columns]"
      ]
     },
     "execution_count": 2,
     "metadata": {},
     "output_type": "execute_result"
    }
   ],
   "source": [
    "df = pd.read_csv('c:/프로젝트/Data/finaldata.csv')\n",
    "df.head(3) "
   ]
  },
  {
   "cell_type": "code",
   "execution_count": 3,
   "metadata": {},
   "outputs": [],
   "source": [
    "# 불필요한 열 삭제\n",
    "df.drop(df.iloc[:,[0]], axis=1, inplace=True)"
   ]
  },
  {
   "cell_type": "code",
   "execution_count": null,
   "metadata": {},
   "outputs": [],
   "source": [
    "df.info"
   ]
  },
  {
   "cell_type": "code",
   "execution_count": null,
   "metadata": {},
   "outputs": [],
   "source": [
    "df.columns"
   ]
  },
  {
   "cell_type": "code",
   "execution_count": 4,
   "metadata": {},
   "outputs": [
    {
     "data": {
      "text/plain": [
       "Index(['전용면적', '거래금액', '층', '건축년도', '계약년월일', '면적당가격', '구', '동', '계약년', '계약월',\n",
       "       '계약일', '년월', '일자', '주택담보대출(연%)', '미국달러', '일본엔', '유로', '소비자물가지수',\n",
       "       '소비자물가지수(전월 대비 증감률)', 'KOSPI_종가', 'KOSDAQ_종가', '무담보콜금리(1일)',\n",
       "       'KORIBOR(3개월)', 'CD(91일)', '국고채(1년)', '국고채(10년)'],\n",
       "      dtype='object')"
      ]
     },
     "execution_count": 4,
     "metadata": {},
     "output_type": "execute_result"
    }
   ],
   "source": [
    "# 컬럼 공백 제거\n",
    "df.columns=df.columns.str.lstrip()\n",
    "df.columns"
   ]
  },
  {
   "cell_type": "code",
   "execution_count": 5,
   "metadata": {},
   "outputs": [],
   "source": [
    "# 컬럼명 변경\n",
    "df.rename(columns= {\n",
    "    '주택담보대출(연%)':'주택담보대출금리', '무담보콜금리(1일)':'콜금리_1일', \n",
    "    'KORIBOR(3개월)':'KORIBOR_3개월','CD(91일)' : 'CD_91일', '국고채(1년)':'국고채_1년', \n",
    "    '국고채(10년)':'국고채_10년'\n",
    "    }, inplace=True) "
   ]
  },
  {
   "cell_type": "code",
   "execution_count": 6,
   "metadata": {},
   "outputs": [
    {
     "data": {
      "text/html": [
       "<div>\n",
       "<style scoped>\n",
       "    .dataframe tbody tr th:only-of-type {\n",
       "        vertical-align: middle;\n",
       "    }\n",
       "\n",
       "    .dataframe tbody tr th {\n",
       "        vertical-align: top;\n",
       "    }\n",
       "\n",
       "    .dataframe thead th {\n",
       "        text-align: right;\n",
       "    }\n",
       "</style>\n",
       "<table border=\"1\" class=\"dataframe\">\n",
       "  <thead>\n",
       "    <tr style=\"text-align: right;\">\n",
       "      <th></th>\n",
       "      <th>면적당가격</th>\n",
       "      <th>전용면적</th>\n",
       "      <th>층</th>\n",
       "      <th>건축년도</th>\n",
       "      <th>미국달러</th>\n",
       "      <th>일본엔</th>\n",
       "      <th>유로</th>\n",
       "      <th>소비자물가지수</th>\n",
       "      <th>주택담보대출금리</th>\n",
       "      <th>KOSPI_종가</th>\n",
       "      <th>KOSDAQ_종가</th>\n",
       "      <th>콜금리_1일</th>\n",
       "      <th>KORIBOR_3개월</th>\n",
       "      <th>CD_91일</th>\n",
       "      <th>국고채_1년</th>\n",
       "      <th>국고채_10년</th>\n",
       "    </tr>\n",
       "  </thead>\n",
       "  <tbody>\n",
       "    <tr>\n",
       "      <th>0</th>\n",
       "      <td>351.842588</td>\n",
       "      <td>59.97</td>\n",
       "      <td>8</td>\n",
       "      <td>2006</td>\n",
       "      <td>940.9</td>\n",
       "      <td>7.731</td>\n",
       "      <td>1220.07</td>\n",
       "      <td>76.496</td>\n",
       "      <td>6.11</td>\n",
       "      <td>1360.23</td>\n",
       "      <td>576.37</td>\n",
       "      <td>4.63</td>\n",
       "      <td>4.91</td>\n",
       "      <td>4.92</td>\n",
       "      <td>4.98</td>\n",
       "      <td>5.04</td>\n",
       "    </tr>\n",
       "    <tr>\n",
       "      <th>1</th>\n",
       "      <td>370.744860</td>\n",
       "      <td>59.34</td>\n",
       "      <td>8</td>\n",
       "      <td>1996</td>\n",
       "      <td>940.9</td>\n",
       "      <td>7.731</td>\n",
       "      <td>1220.07</td>\n",
       "      <td>76.496</td>\n",
       "      <td>6.11</td>\n",
       "      <td>1360.23</td>\n",
       "      <td>576.37</td>\n",
       "      <td>4.63</td>\n",
       "      <td>4.91</td>\n",
       "      <td>4.92</td>\n",
       "      <td>4.98</td>\n",
       "      <td>5.04</td>\n",
       "    </tr>\n",
       "    <tr>\n",
       "      <th>2</th>\n",
       "      <td>370.631839</td>\n",
       "      <td>84.99</td>\n",
       "      <td>10</td>\n",
       "      <td>2000</td>\n",
       "      <td>940.9</td>\n",
       "      <td>7.731</td>\n",
       "      <td>1220.07</td>\n",
       "      <td>76.496</td>\n",
       "      <td>6.11</td>\n",
       "      <td>1360.23</td>\n",
       "      <td>576.37</td>\n",
       "      <td>4.63</td>\n",
       "      <td>4.91</td>\n",
       "      <td>4.92</td>\n",
       "      <td>4.98</td>\n",
       "      <td>5.04</td>\n",
       "    </tr>\n",
       "  </tbody>\n",
       "</table>\n",
       "</div>"
      ],
      "text/plain": [
       "        면적당가격   전용면적   층  건축년도   미국달러    일본엔       유로  소비자물가지수  주택담보대출금리  \\\n",
       "0  351.842588  59.97   8  2006  940.9  7.731  1220.07   76.496      6.11   \n",
       "1  370.744860  59.34   8  1996  940.9  7.731  1220.07   76.496      6.11   \n",
       "2  370.631839  84.99  10  2000  940.9  7.731  1220.07   76.496      6.11   \n",
       "\n",
       "   KOSPI_종가  KOSDAQ_종가  콜금리_1일  KORIBOR_3개월  CD_91일  국고채_1년  국고채_10년  \n",
       "0   1360.23     576.37    4.63         4.91    4.92    4.98     5.04  \n",
       "1   1360.23     576.37    4.63         4.91    4.92    4.98     5.04  \n",
       "2   1360.23     576.37    4.63         4.91    4.92    4.98     5.04  "
      ]
     },
     "execution_count": 6,
     "metadata": {},
     "output_type": "execute_result"
    }
   ],
   "source": [
    "#변수 16개 데이터 생성\n",
    "df1=df[['면적당가격','전용면적','층', '건축년도','미국달러', '일본엔','유로','소비자물가지수',\n",
    "        '주택담보대출금리', 'KOSPI_종가', 'KOSDAQ_종가','콜금리_1일','KORIBOR_3개월','CD_91일',\n",
    "        '국고채_1년','국고채_10년']]\n",
    "df1.head(3)"
   ]
  },
  {
   "cell_type": "code",
   "execution_count": null,
   "metadata": {},
   "outputs": [],
   "source": [
    "# 상관관계\n",
    "df1.corr()"
   ]
  },
  {
   "cell_type": "code",
   "execution_count": null,
   "metadata": {},
   "outputs": [],
   "source": [
    "#상관관계 히트맵\n",
    "plt.figure(figsize = (10,8))\n",
    "cmap = sns.light_palette('green', as_cmap=True)\n",
    "sns.heatmap(df1.corr(),annot=True, cmap=cmap)\n",
    "plt.show()"
   ]
  },
  {
   "cell_type": "code",
   "execution_count": 7,
   "metadata": {},
   "outputs": [
    {
     "name": "stdout",
     "output_type": "stream",
     "text": [
      "모형의적합성_R2 : 0.8046125566455984\n",
      "P-value:\n",
      " 전용면적           6.215217e-238\n",
      "층               0.000000e+00\n",
      "건축년도            0.000000e+00\n",
      "주택담보대출금리        2.796779e-43\n",
      "미국달러            0.000000e+00\n",
      "일본엔             4.990759e-11\n",
      "유로              0.000000e+00\n",
      "소비자물가지수         0.000000e+00\n",
      "KOSPI_종가        0.000000e+00\n",
      "KOSDAQ_종가       0.000000e+00\n",
      "콜금리_1일          0.000000e+00\n",
      "KORIBOR_3개월     0.000000e+00\n",
      "CD_91일          1.611320e-03\n",
      "국고채_1년          1.567005e-89\n",
      "국고채_10년        4.617136e-201\n",
      "dtype: float64\n"
     ]
    },
    {
     "data": {
      "text/html": [
       "<table class=\"simpletable\">\n",
       "<caption>OLS Regression Results</caption>\n",
       "<tr>\n",
       "  <th>Dep. Variable:</th>          <td>면적당가격</td>      <th>  R-squared (uncentered):</th>       <td>   0.805</td>  \n",
       "</tr>\n",
       "<tr>\n",
       "  <th>Model:</th>                   <td>OLS</td>       <th>  Adj. R-squared (uncentered):</th>  <td>   0.805</td>  \n",
       "</tr>\n",
       "<tr>\n",
       "  <th>Method:</th>             <td>Least Squares</td>  <th>  F-statistic:       </th>           <td>3.069e+05</td> \n",
       "</tr>\n",
       "<tr>\n",
       "  <th>Date:</th>             <td>Fri, 24 Mar 2023</td> <th>  Prob (F-statistic):</th>            <td>  0.00</td>   \n",
       "</tr>\n",
       "<tr>\n",
       "  <th>Time:</th>                 <td>12:16:43</td>     <th>  Log-Likelihood:    </th>          <td>-8.2200e+06</td>\n",
       "</tr>\n",
       "<tr>\n",
       "  <th>No. Observations:</th>      <td>1117750</td>     <th>  AIC:               </th>           <td>1.644e+07</td> \n",
       "</tr>\n",
       "<tr>\n",
       "  <th>Df Residuals:</th>          <td>1117735</td>     <th>  BIC:               </th>           <td>1.644e+07</td> \n",
       "</tr>\n",
       "<tr>\n",
       "  <th>Df Model:</th>              <td>    15</td>      <th>                     </th>               <td> </td>     \n",
       "</tr>\n",
       "<tr>\n",
       "  <th>Covariance Type:</th>      <td>nonrobust</td>    <th>                     </th>               <td> </td>     \n",
       "</tr>\n",
       "</table>\n",
       "<table class=\"simpletable\">\n",
       "<tr>\n",
       "       <td></td>          <th>coef</th>     <th>std err</th>      <th>t</th>      <th>P>|t|</th>  <th>[0.025</th>    <th>0.975]</th>  \n",
       "</tr>\n",
       "<tr>\n",
       "  <th>전용면적</th>        <td>    0.4033</td> <td>    0.012</td> <td>   32.946</td> <td> 0.000</td> <td>    0.379</td> <td>    0.427</td>\n",
       "</tr>\n",
       "<tr>\n",
       "  <th>층</th>           <td>    6.7808</td> <td>    0.060</td> <td>  112.359</td> <td> 0.000</td> <td>    6.662</td> <td>    6.899</td>\n",
       "</tr>\n",
       "<tr>\n",
       "  <th>건축년도</th>        <td>   -1.4195</td> <td>    0.009</td> <td> -166.244</td> <td> 0.000</td> <td>   -1.436</td> <td>   -1.403</td>\n",
       "</tr>\n",
       "<tr>\n",
       "  <th>주택담보대출금리</th>    <td>  -27.5872</td> <td>    2.000</td> <td>  -13.794</td> <td> 0.000</td> <td>  -31.507</td> <td>  -23.667</td>\n",
       "</tr>\n",
       "<tr>\n",
       "  <th>미국달러</th>        <td>    0.4614</td> <td>    0.011</td> <td>   43.840</td> <td> 0.000</td> <td>    0.441</td> <td>    0.482</td>\n",
       "</tr>\n",
       "<tr>\n",
       "  <th>일본엔</th>         <td>    2.9670</td> <td>    0.452</td> <td>    6.571</td> <td> 0.000</td> <td>    2.082</td> <td>    3.852</td>\n",
       "</tr>\n",
       "<tr>\n",
       "  <th>유로</th>          <td>    0.5161</td> <td>    0.007</td> <td>   77.267</td> <td> 0.000</td> <td>    0.503</td> <td>    0.529</td>\n",
       "</tr>\n",
       "<tr>\n",
       "  <th>소비자물가지수</th>     <td>   15.5587</td> <td>    0.208</td> <td>   74.624</td> <td> 0.000</td> <td>   15.150</td> <td>   15.967</td>\n",
       "</tr>\n",
       "<tr>\n",
       "  <th>KOSPI_종가</th>    <td>    0.1293</td> <td>    0.003</td> <td>   39.609</td> <td> 0.000</td> <td>    0.123</td> <td>    0.136</td>\n",
       "</tr>\n",
       "<tr>\n",
       "  <th>KOSDAQ_종가</th>   <td>    0.8943</td> <td>    0.006</td> <td>  139.498</td> <td> 0.000</td> <td>    0.882</td> <td>    0.907</td>\n",
       "</tr>\n",
       "<tr>\n",
       "  <th>콜금리_1일</th>      <td> -373.1956</td> <td>    3.855</td> <td>  -96.800</td> <td> 0.000</td> <td> -380.752</td> <td> -365.639</td>\n",
       "</tr>\n",
       "<tr>\n",
       "  <th>KORIBOR_3개월</th> <td>  521.9992</td> <td>   10.126</td> <td>   51.552</td> <td> 0.000</td> <td>  502.153</td> <td>  541.845</td>\n",
       "</tr>\n",
       "<tr>\n",
       "  <th>CD_91일</th>      <td>  -31.4078</td> <td>    9.959</td> <td>   -3.154</td> <td> 0.002</td> <td>  -50.926</td> <td>  -11.889</td>\n",
       "</tr>\n",
       "<tr>\n",
       "  <th>국고채_1년</th>      <td>  -76.2908</td> <td>    3.802</td> <td>  -20.064</td> <td> 0.000</td> <td>  -83.743</td> <td>  -68.838</td>\n",
       "</tr>\n",
       "<tr>\n",
       "  <th>국고채_10년</th>     <td>  -51.1887</td> <td>    1.692</td> <td>  -30.260</td> <td> 0.000</td> <td>  -54.504</td> <td>  -47.873</td>\n",
       "</tr>\n",
       "</table>\n",
       "<table class=\"simpletable\">\n",
       "<tr>\n",
       "  <th>Omnibus:</th>       <td>574492.317</td> <th>  Durbin-Watson:     </th>  <td>   1.755</td>  \n",
       "</tr>\n",
       "<tr>\n",
       "  <th>Prob(Omnibus):</th>   <td> 0.000</td>   <th>  Jarque-Bera (JB):  </th> <td>5529867.813</td>\n",
       "</tr>\n",
       "<tr>\n",
       "  <th>Skew:</th>            <td> 2.287</td>   <th>  Prob(JB):          </th>  <td>    0.00</td>  \n",
       "</tr>\n",
       "<tr>\n",
       "  <th>Kurtosis:</th>        <td>12.890</td>   <th>  Cond. No.          </th>  <td>1.33e+05</td>  \n",
       "</tr>\n",
       "</table><br/><br/>Notes:<br/>[1] R² is computed without centering (uncentered) since the model does not contain a constant.<br/>[2] Standard Errors assume that the covariance matrix of the errors is correctly specified.<br/>[3] The condition number is large, 1.33e+05. This might indicate that there are<br/>strong multicollinearity or other numerical problems."
      ],
      "text/plain": [
       "<class 'statsmodels.iolib.summary.Summary'>\n",
       "\"\"\"\n",
       "                                 OLS Regression Results                                \n",
       "=======================================================================================\n",
       "Dep. Variable:                  면적당가격   R-squared (uncentered):                   0.805\n",
       "Model:                            OLS   Adj. R-squared (uncentered):              0.805\n",
       "Method:                 Least Squares   F-statistic:                          3.069e+05\n",
       "Date:                Fri, 24 Mar 2023   Prob (F-statistic):                        0.00\n",
       "Time:                        12:16:43   Log-Likelihood:                     -8.2200e+06\n",
       "No. Observations:             1117750   AIC:                                  1.644e+07\n",
       "Df Residuals:                 1117735   BIC:                                  1.644e+07\n",
       "Df Model:                          15                                                  \n",
       "Covariance Type:            nonrobust                                                  \n",
       "===============================================================================\n",
       "                  coef    std err          t      P>|t|      [0.025      0.975]\n",
       "-------------------------------------------------------------------------------\n",
       "전용면적            0.4033      0.012     32.946      0.000       0.379       0.427\n",
       "층               6.7808      0.060    112.359      0.000       6.662       6.899\n",
       "건축년도           -1.4195      0.009   -166.244      0.000      -1.436      -1.403\n",
       "주택담보대출금리      -27.5872      2.000    -13.794      0.000     -31.507     -23.667\n",
       "미국달러            0.4614      0.011     43.840      0.000       0.441       0.482\n",
       "일본엔             2.9670      0.452      6.571      0.000       2.082       3.852\n",
       "유로              0.5161      0.007     77.267      0.000       0.503       0.529\n",
       "소비자물가지수        15.5587      0.208     74.624      0.000      15.150      15.967\n",
       "KOSPI_종가        0.1293      0.003     39.609      0.000       0.123       0.136\n",
       "KOSDAQ_종가       0.8943      0.006    139.498      0.000       0.882       0.907\n",
       "콜금리_1일       -373.1956      3.855    -96.800      0.000    -380.752    -365.639\n",
       "KORIBOR_3개월   521.9992     10.126     51.552      0.000     502.153     541.845\n",
       "CD_91일        -31.4078      9.959     -3.154      0.002     -50.926     -11.889\n",
       "국고채_1년        -76.2908      3.802    -20.064      0.000     -83.743     -68.838\n",
       "국고채_10년       -51.1887      1.692    -30.260      0.000     -54.504     -47.873\n",
       "==============================================================================\n",
       "Omnibus:                   574492.317   Durbin-Watson:                   1.755\n",
       "Prob(Omnibus):                  0.000   Jarque-Bera (JB):          5529867.813\n",
       "Skew:                           2.287   Prob(JB):                         0.00\n",
       "Kurtosis:                      12.890   Cond. No.                     1.33e+05\n",
       "==============================================================================\n",
       "\n",
       "Notes:\n",
       "[1] R² is computed without centering (uncentered) since the model does not contain a constant.\n",
       "[2] Standard Errors assume that the covariance matrix of the errors is correctly specified.\n",
       "[3] The condition number is large, 1.33e+05. This might indicate that there are\n",
       "strong multicollinearity or other numerical problems.\n",
       "\"\"\""
      ]
     },
     "execution_count": 7,
     "metadata": {},
     "output_type": "execute_result"
    }
   ],
   "source": [
    "# 16개 변수 다중회귀분석\n",
    "X=df1[['전용면적','층','건축년도','주택담보대출금리','미국달러', '일본엔','유로', '소비자물가지수', 'KOSPI_종가' ,'KOSDAQ_종가', \n",
    "        '콜금리_1일','KORIBOR_3개월','CD_91일' , '국고채_1년','국고채_10년']]\n",
    "y=df1['면적당가격']\n",
    "\n",
    "import statsmodels.api as sm\n",
    "\n",
    "model = sm.OLS(y, X)\n",
    "result = model.fit()\n",
    "print(\"모형의적합성_R2 :\",result.rsquared)\n",
    "print(\"P-value:\\n\",result.pvalues)\n",
    "result.summary()"
   ]
  },
  {
   "cell_type": "code",
   "execution_count": null,
   "metadata": {},
   "outputs": [],
   "source": [
    "# formula 사용\n",
    "import statsmodels.formula.api as smf\n",
    "\n",
    "model = smf.ols(\n",
    "    formula= \n",
    "    '면적당가격 ~ 전용면적 + 층 + 건축년도 + 주택담보대출금리 + 미국달러 + 일본엔 +유로 + 소비자물가지수 + KOSPI_종가 + KOSDAQ_종가 + 콜금리_1일 + KORIBOR_3개월 + CD_91일 + 국고채_1년 + 국고채_10년'\n",
    "    ,data=df1).fit()\n",
    "model.summary()"
   ]
  },
  {
   "cell_type": "code",
   "execution_count": null,
   "metadata": {},
   "outputs": [],
   "source": [
    "## 16개 변수 VIF 산출\n",
    "from statsmodels.stats.outliers_influence import variance_inflation_factor  \n",
    "\n",
    "vif = pd.DataFrame()\n",
    "vif['VIF']=[variance_inflation_factor(df1.values, i) for i in range(df1.shape[1])]\n",
    "vif['독립변수'] = df1.columns\n",
    "vif =vif.sort_values('VIF').reset_index(drop=True)\n",
    "vif  "
   ]
  },
  {
   "cell_type": "code",
   "execution_count": 8,
   "metadata": {},
   "outputs": [
    {
     "data": {
      "text/html": [
       "<div>\n",
       "<style scoped>\n",
       "    .dataframe tbody tr th:only-of-type {\n",
       "        vertical-align: middle;\n",
       "    }\n",
       "\n",
       "    .dataframe tbody tr th {\n",
       "        vertical-align: top;\n",
       "    }\n",
       "\n",
       "    .dataframe thead th {\n",
       "        text-align: right;\n",
       "    }\n",
       "</style>\n",
       "<table border=\"1\" class=\"dataframe\">\n",
       "  <thead>\n",
       "    <tr style=\"text-align: right;\">\n",
       "      <th></th>\n",
       "      <th>면적당가격</th>\n",
       "      <th>전용면적</th>\n",
       "      <th>층</th>\n",
       "      <th>건축년도</th>\n",
       "      <th>KOSDAQ_종가</th>\n",
       "      <th>미국달러</th>\n",
       "      <th>소비자물가지수</th>\n",
       "      <th>주택담보대출금리</th>\n",
       "    </tr>\n",
       "  </thead>\n",
       "  <tbody>\n",
       "    <tr>\n",
       "      <th>0</th>\n",
       "      <td>351.842588</td>\n",
       "      <td>59.97</td>\n",
       "      <td>8</td>\n",
       "      <td>2006</td>\n",
       "      <td>576.37</td>\n",
       "      <td>940.9</td>\n",
       "      <td>76.496</td>\n",
       "      <td>6.11</td>\n",
       "    </tr>\n",
       "    <tr>\n",
       "      <th>1</th>\n",
       "      <td>370.744860</td>\n",
       "      <td>59.34</td>\n",
       "      <td>8</td>\n",
       "      <td>1996</td>\n",
       "      <td>576.37</td>\n",
       "      <td>940.9</td>\n",
       "      <td>76.496</td>\n",
       "      <td>6.11</td>\n",
       "    </tr>\n",
       "    <tr>\n",
       "      <th>2</th>\n",
       "      <td>370.631839</td>\n",
       "      <td>84.99</td>\n",
       "      <td>10</td>\n",
       "      <td>2000</td>\n",
       "      <td>576.37</td>\n",
       "      <td>940.9</td>\n",
       "      <td>76.496</td>\n",
       "      <td>6.11</td>\n",
       "    </tr>\n",
       "  </tbody>\n",
       "</table>\n",
       "</div>"
      ],
      "text/plain": [
       "        면적당가격   전용면적   층  건축년도  KOSDAQ_종가   미국달러  소비자물가지수  주택담보대출금리\n",
       "0  351.842588  59.97   8  2006     576.37  940.9   76.496      6.11\n",
       "1  370.744860  59.34   8  1996     576.37  940.9   76.496      6.11\n",
       "2  370.631839  84.99  10  2000     576.37  940.9   76.496      6.11"
      ]
     },
     "execution_count": 8,
     "metadata": {},
     "output_type": "execute_result"
    }
   ],
   "source": [
    "# 8개 변수 데이터 생성\n",
    "df_X= df1[['면적당가격','전용면적','층', '건축년도','KOSDAQ_종가', '미국달러', \n",
    "         '소비자물가지수','주택담보대출금리']]\n",
    "df_X.head(3)"
   ]
  },
  {
   "cell_type": "code",
   "execution_count": 9,
   "metadata": {},
   "outputs": [
    {
     "data": {
      "text/html": [
       "<div>\n",
       "<style scoped>\n",
       "    .dataframe tbody tr th:only-of-type {\n",
       "        vertical-align: middle;\n",
       "    }\n",
       "\n",
       "    .dataframe tbody tr th {\n",
       "        vertical-align: top;\n",
       "    }\n",
       "\n",
       "    .dataframe thead th {\n",
       "        text-align: right;\n",
       "    }\n",
       "</style>\n",
       "<table border=\"1\" class=\"dataframe\">\n",
       "  <thead>\n",
       "    <tr style=\"text-align: right;\">\n",
       "      <th></th>\n",
       "      <th>전용면적</th>\n",
       "      <th>층</th>\n",
       "      <th>건축년도</th>\n",
       "      <th>KOSDAQ_종가</th>\n",
       "      <th>미국달러</th>\n",
       "      <th>소비자물가지수</th>\n",
       "      <th>주택담보대출금리</th>\n",
       "    </tr>\n",
       "  </thead>\n",
       "  <tbody>\n",
       "    <tr>\n",
       "      <th>0</th>\n",
       "      <td>59.97</td>\n",
       "      <td>8</td>\n",
       "      <td>2006</td>\n",
       "      <td>576.37</td>\n",
       "      <td>940.9</td>\n",
       "      <td>76.496</td>\n",
       "      <td>6.11</td>\n",
       "    </tr>\n",
       "    <tr>\n",
       "      <th>1</th>\n",
       "      <td>59.34</td>\n",
       "      <td>8</td>\n",
       "      <td>1996</td>\n",
       "      <td>576.37</td>\n",
       "      <td>940.9</td>\n",
       "      <td>76.496</td>\n",
       "      <td>6.11</td>\n",
       "    </tr>\n",
       "    <tr>\n",
       "      <th>2</th>\n",
       "      <td>84.99</td>\n",
       "      <td>10</td>\n",
       "      <td>2000</td>\n",
       "      <td>576.37</td>\n",
       "      <td>940.9</td>\n",
       "      <td>76.496</td>\n",
       "      <td>6.11</td>\n",
       "    </tr>\n",
       "  </tbody>\n",
       "</table>\n",
       "</div>"
      ],
      "text/plain": [
       "    전용면적   층  건축년도  KOSDAQ_종가   미국달러  소비자물가지수  주택담보대출금리\n",
       "0  59.97   8  2006     576.37  940.9   76.496      6.11\n",
       "1  59.34   8  1996     576.37  940.9   76.496      6.11\n",
       "2  84.99  10  2000     576.37  940.9   76.496      6.11"
      ]
     },
     "execution_count": 9,
     "metadata": {},
     "output_type": "execute_result"
    }
   ],
   "source": [
    "#VIF 큰 값, 비슷한 성격 제외 7개 독립 변수 데이터 생성\n",
    "df2=df1[['전용면적','층', '건축년도','KOSDAQ_종가', '미국달러', \n",
    "         '소비자물가지수','주택담보대출금리']]\n",
    "df2.head(3)"
   ]
  },
  {
   "cell_type": "code",
   "execution_count": 10,
   "metadata": {},
   "outputs": [
    {
     "data": {
      "text/html": [
       "<div>\n",
       "<style scoped>\n",
       "    .dataframe tbody tr th:only-of-type {\n",
       "        vertical-align: middle;\n",
       "    }\n",
       "\n",
       "    .dataframe tbody tr th {\n",
       "        vertical-align: top;\n",
       "    }\n",
       "\n",
       "    .dataframe thead th {\n",
       "        text-align: right;\n",
       "    }\n",
       "</style>\n",
       "<table border=\"1\" class=\"dataframe\">\n",
       "  <thead>\n",
       "    <tr style=\"text-align: right;\">\n",
       "      <th></th>\n",
       "      <th>면적당가격</th>\n",
       "    </tr>\n",
       "  </thead>\n",
       "  <tbody>\n",
       "    <tr>\n",
       "      <th>0</th>\n",
       "      <td>351.842588</td>\n",
       "    </tr>\n",
       "    <tr>\n",
       "      <th>1</th>\n",
       "      <td>370.744860</td>\n",
       "    </tr>\n",
       "    <tr>\n",
       "      <th>2</th>\n",
       "      <td>370.631839</td>\n",
       "    </tr>\n",
       "  </tbody>\n",
       "</table>\n",
       "</div>"
      ],
      "text/plain": [
       "        면적당가격\n",
       "0  351.842588\n",
       "1  370.744860\n",
       "2  370.631839"
      ]
     },
     "execution_count": 10,
     "metadata": {},
     "output_type": "execute_result"
    }
   ],
   "source": [
    "# 종속 변수 데이터 생성\n",
    "df_y= df1[['면적당가격']]\n",
    "df_y.head(3)"
   ]
  },
  {
   "cell_type": "code",
   "execution_count": null,
   "metadata": {},
   "outputs": [],
   "source": [
    "sns.pairplot(df2[['전용면적', '층', '건축년도', 'KOSDAQ_종가','미국달러', \n",
    "                  '소비자물가지수','주택담보대출금리']].sample(frac=0.05))\n",
    "plt.show()"
   ]
  },
  {
   "cell_type": "code",
   "execution_count": null,
   "metadata": {},
   "outputs": [],
   "source": [
    "# VIF 큰 값 제외한 7개 변수 다중회귀분석 \n",
    "# 16개변수 적용시와 비교 결과 : 적합성 다소 떨어짐 0.805->0.80 / 조건수 높아짐   0.0000133 -> 0.00431\n",
    "X=df_X[['전용면적','층','건축년도', '미국달러', '소비자물가지수',  'KOSDAQ_종가','주택담보대출금리']]\n",
    "y=df_X['면적당가격']\n",
    "\n",
    "import statsmodels.api as sm\n",
    "\n",
    "model = sm.OLS(y, X)\n",
    "result = model.fit()\n",
    "print(\"모형의적합성_R2 :\",result.rsquared)\n",
    "print(\"P-value:\\n\",result.pvalues)\n",
    "result.summary()"
   ]
  },
  {
   "cell_type": "code",
   "execution_count": null,
   "metadata": {},
   "outputs": [],
   "source": [
    "# formular 형태 분석 시 R 값 0.236 \n",
    "import statsmodels.formula.api as smf\n",
    "\n",
    "model = smf.ols(\n",
    "    formula= \n",
    "    '면적당가격 ~ 전용면적 + 층 + 건축년도 + 미국달러 + 소비자물가지수 + KOSDAQ_종가 + 주택담보대출금리'\n",
    "    ,data=df_X).fit()\n",
    "model.summary()"
   ]
  },
  {
   "attachments": {},
   "cell_type": "markdown",
   "metadata": {},
   "source": [
    "## 변수별 적합성 검토"
   ]
  },
  {
   "cell_type": "code",
   "execution_count": null,
   "metadata": {},
   "outputs": [],
   "source": [
    "# 비슷한 유형별 변수 교체 (미국달러->일본엔)다중회귀분석 \n",
    "# 결과 : 적합성 낮아짐 0.80->0.798 / 조건수 낮아짐   0.00431 -> 0.00394\n",
    "X=df1[['전용면적','층','건축년도', '일본엔', '소비자물가지수',  'KOSDAQ_종가','주택담보대출금리']]\n",
    "y=df1['면적당가격']\n",
    "\n",
    "import statsmodels.api as sm\n",
    "\n",
    "model = sm.OLS(y, X)\n",
    "result = model.fit()\n",
    "print(\"모형의적합성_R2 :\",result.rsquared)\n",
    "print(\"P-value:\\n\",result.pvalues)\n",
    "result.summary()  "
   ]
  },
  {
   "cell_type": "code",
   "execution_count": null,
   "metadata": {},
   "outputs": [],
   "source": [
    "# 비슷한 유형별 변수 교체 (일본엔->유로)다중회귀분석 -> 미국달러가 가장 적합성 높음\n",
    "# 결과 : 적합성 높아짐 0.798->0.8 / 조건수 높아짐   0.00394 -> 0.00508\n",
    "X=df1[['전용면적','층','건축년도', '유로', '소비자물가지수',  'KOSDAQ_종가','주택담보대출금리']]\n",
    "y=df1['면적당가격']\n",
    "\n",
    "import statsmodels.api as sm\n",
    "\n",
    "model = sm.OLS(y, X)\n",
    "result = model.fit()\n",
    "print(\"모형의적합성_R2 :\",result.rsquared)\n",
    "print(\"P-value:\\n\",result.pvalues)\n",
    "result.summary()  "
   ]
  },
  {
   "cell_type": "code",
   "execution_count": null,
   "metadata": {},
   "outputs": [],
   "source": [
    "# 비슷한 유형별 변수 교체 (KOSDAQ->KOSPI)다중회귀분석 -> KOSDAQ 적합성 높음\n",
    "# 결과 : 적합성 떨어짐 0.80->0.796  / 조건수 높아짐   0.00431 -> 0.00588\n",
    "X=df1[['전용면적','층','건축년도', '미국달러', '소비자물가지수',  'KOSPI_종가','주택담보대출금리']]\n",
    "y=df1['면적당가격']\n",
    "\n",
    "import statsmodels.api as sm\n",
    "\n",
    "model = sm.OLS(y, X)\n",
    "result = model.fit()\n",
    "print(\"모형의적합성_R2 :\",result.rsquared)\n",
    "print(\"P-value:\\n\",result.pvalues)\n",
    "result.summary() "
   ]
  },
  {
   "cell_type": "code",
   "execution_count": null,
   "metadata": {},
   "outputs": [],
   "source": [
    "# 비슷한 유형별 변수 교체 (주택담보대출->콜금리) 다중회귀분석  \n",
    "# 결과 : 적합성 낮아짐 0.8->0.798  / 조건수 높아짐   0.00431 -> 0.00436\n",
    "X=df1[['전용면적','층','건축년도', '미국달러', '소비자물가지수',  'KOSDAQ_종가','콜금리_1일']]\n",
    "y=df1['면적당가격']\n",
    "\n",
    "import statsmodels.api as sm\n",
    "\n",
    "model = sm.OLS(y, X)\n",
    "result = model.fit()\n",
    "print(\"모형의적합성_R2 :\",result.rsquared)\n",
    "print(\"P-value:\\n\",result.pvalues)\n",
    "result.summary()"
   ]
  },
  {
   "cell_type": "code",
   "execution_count": null,
   "metadata": {},
   "outputs": [],
   "source": [
    "# 비슷한 유형별 변수 교체 (콜금리->KORIBOR_3개월) 다중회귀분석  \n",
    "# 결과 : 적합성 같음 0.798->0.798  / 조건수 낮아짐   0.00436 -> 0.00413\n",
    "X=df1[['전용면적','층','건축년도', '미국달러', '소비자물가지수',  'KOSDAQ_종가','KORIBOR_3개월']]\n",
    "y=df1['면적당가격']\n",
    "\n",
    "import statsmodels.api as sm\n",
    "\n",
    "model = sm.OLS(y, X)\n",
    "result = model.fit()\n",
    "print(\"모형의적합성_R2 :\",result.rsquared)\n",
    "print(\"P-value:\\n\",result.pvalues)\n",
    "result.summary()"
   ]
  },
  {
   "cell_type": "code",
   "execution_count": null,
   "metadata": {},
   "outputs": [],
   "source": [
    "# 비슷한 유형별 변수 교체 (KORIBOR_3개월->CD_91일) 다중회귀분석  \n",
    "# 결과 : 적합성 같음 0.798->0.798  / 조건수 높아짐   0.00413 -> 0.00416\n",
    "X=df1[['전용면적','층','건축년도', '미국달러', '소비자물가지수',  'KOSDAQ_종가','CD_91일']]\n",
    "y=df1['면적당가격']\n",
    "\n",
    "import statsmodels.api as sm\n",
    "\n",
    "model = sm.OLS(y, X)\n",
    "result = model.fit()\n",
    "print(\"모형의적합성_R2 :\",result.rsquared)\n",
    "print(\"P-value:\\n\",result.pvalues)\n",
    "result.summary()"
   ]
  },
  {
   "cell_type": "code",
   "execution_count": null,
   "metadata": {},
   "outputs": [],
   "source": [
    "# 비슷한 유형별 변수 교체 (CD_91일->국고채_1년) 다중회귀분석  -> 주택담보대출금리 적합성 가장 높음\n",
    "# 결과 : 적합성 같음 0.798->0.798  / 조건수 높아짐   0.00413 -> 0.00452\n",
    "X=df1[['전용면적','층','건축년도', '미국달러', '소비자물가지수',  'KOSDAQ_종가','국고채_1년']]\n",
    "y=df1['면적당가격']\n",
    "\n",
    "import statsmodels.api as sm\n",
    "\n",
    "model = sm.OLS(y, X)\n",
    "result = model.fit()\n",
    "print(\"모형의적합성_R2 :\",result.rsquared)\n",
    "print(\"P-value:\\n\",result.pvalues)\n",
    "result.summary()"
   ]
  },
  {
   "cell_type": "code",
   "execution_count": null,
   "metadata": {},
   "outputs": [],
   "source": [
    "# 비슷한 유형별 변수 교체 (국고채_1년->국고채_10년) 다중회귀분석  -> 주택담보대출금리 적합성 가장 높음\n",
    "# 결과 : 적합성 높아짐 0.798->0.799  / 조건수 낮아짐   0.00452 -> 0.00389\n",
    "X=df1[['전용면적','층','건축년도', '미국달러', '소비자물가지수',  'KOSDAQ_종가','국고채_10년']]\n",
    "y=df1['면적당가격']\n",
    "\n",
    "import statsmodels.api as sm\n",
    "\n",
    "model = sm.OLS(y, X)\n",
    "result = model.fit()\n",
    "print(\"모형의적합성_R2 :\",result.rsquared)\n",
    "print(\"P-value:\\n\",result.pvalues)\n",
    "result.summary()"
   ]
  },
  {
   "attachments": {},
   "cell_type": "markdown",
   "metadata": {},
   "source": [
    "## Predict"
   ]
  },
  {
   "cell_type": "code",
   "execution_count": null,
   "metadata": {},
   "outputs": [],
   "source": [
    "from sklearn.linear_model import LinearRegression\n",
    "model = LinearRegression()\n",
    "x=df1[['전용면적', '층', '미국달러','소비자물가지수', \n",
    "       'KOSDAQ_종가','주택담보대출금리']]      \n",
    "y=df1[['면적당가격']] \n",
    "model.fit(x,y)"
   ]
  },
  {
   "cell_type": "code",
   "execution_count": null,
   "metadata": {},
   "outputs": [],
   "source": [
    "#전용면적 상승, 나머지 변수 평균값 \n",
    "전용면적 = 500\n",
    "층 = 9\n",
    "미국달러 = 1123\n",
    "소비자물가지수 = 93  \n",
    "KOSDAQ_종가 = 651  \n",
    "주택담보대출금리 = 3.8\n",
    "\n",
    "\n",
    "Predict = [전용면적, 층, 미국달러 ,소비자물가지수, KOSDAQ_종가, 주택담보대출금리]\n",
    "price1 = model.predict([Predict])\n",
    "price1"
   ]
  },
  {
   "cell_type": "code",
   "execution_count": null,
   "metadata": {},
   "outputs": [],
   "source": [
    "#층 상승 , 나머지 변수 평균값 \n",
    "전용면적 = 77\n",
    "층 = 80\n",
    "미국달러 = 1123\n",
    "소비자물가지수 = 93  \n",
    "KOSDAQ_종가 = 651  \n",
    "주택담보대출금리 = 3.8\n",
    "\n",
    "\n",
    "Predict = [전용면적, 층, 미국달러 ,소비자물가지수, KOSDAQ_종가, 주택담보대출금리]\n",
    "price2 = model.predict([Predict])\n",
    "price2"
   ]
  },
  {
   "cell_type": "code",
   "execution_count": null,
   "metadata": {},
   "outputs": [],
   "source": [
    "#미국달러 상승 , 나머지 변수 평균값 \n",
    "전용면적 = 77\n",
    "층 = 9\n",
    "미국달러 = 1600\n",
    "소비자물가지수 = 93  \n",
    "KOSDAQ_종가 = 651  \n",
    "주택담보대출금리 = 3.8\n",
    "\n",
    "\n",
    "Predict = [전용면적, 층, 미국달러 ,소비자물가지수, KOSDAQ_종가, 주택담보대출금리]\n",
    "price3 = model.predict([Predict])\n",
    "price3"
   ]
  },
  {
   "cell_type": "code",
   "execution_count": null,
   "metadata": {},
   "outputs": [],
   "source": [
    "#소비자물가지수 상승 , 나머지 변수 평균값 \n",
    "전용면적 = 77\n",
    "층 = 9\n",
    "미국달러 = 1123\n",
    "소비자물가지수 = 120  \n",
    "KOSDAQ_종가 = 651  \n",
    "주택담보대출금리 = 3.8\n",
    "\n",
    "\n",
    "Predict = [전용면적, 층, 미국달러 ,소비자물가지수, KOSDAQ_종가, 주택담보대출금리]\n",
    "price4 = model.predict([Predict])\n",
    "price4"
   ]
  },
  {
   "cell_type": "code",
   "execution_count": null,
   "metadata": {},
   "outputs": [],
   "source": [
    "#KOSDAQ_종가 상승 , 나머지 변수 평균값 \n",
    "전용면적 = 77\n",
    "층 = 9\n",
    "미국달러 = 1123\n",
    "소비자물가지수 = 93  \n",
    "KOSDAQ_종가 = 1100  \n",
    "주택담보대출금리 = 3.8\n",
    "\n",
    "\n",
    "Predict = [전용면적, 층, 미국달러 ,소비자물가지수, KOSDAQ_종가, 주택담보대출금리]\n",
    "price5 = model.predict([Predict])\n",
    "price5"
   ]
  },
  {
   "cell_type": "code",
   "execution_count": null,
   "metadata": {},
   "outputs": [],
   "source": [
    "#극고채_10년 상승 , 나머지 변수 평균값 \n",
    "전용면적 = 77\n",
    "층 = 9\n",
    "미국달러 = 1123\n",
    "소비자물가지수 = 93  \n",
    "KOSDAQ_종가 = 651  \n",
    "주택담보대출금리 = 8\n",
    "\n",
    "\n",
    "Predict = [전용면적, 층, 미국달러 ,소비자물가지수, KOSDAQ_종가, 주택담보대출금리]\n",
    "price6 = model.predict([Predict])\n",
    "price6"
   ]
  },
  {
   "attachments": {},
   "cell_type": "markdown",
   "metadata": {},
   "source": [
    "## 모델적합성 개선 (후진제거법)"
   ]
  },
  {
   "cell_type": "code",
   "execution_count": null,
   "metadata": {},
   "outputs": [],
   "source": [
    "# 주택담보대출금리 변수 제거 -> 0.797\n",
    "X=df1[['전용면적','층','건축년도', '미국달러', '소비자물가지수',  'KOSDAQ_종가']]\n",
    "y=df1['면적당가격']\n",
    "\n",
    "import statsmodels.api as sm\n",
    "\n",
    "model = sm.OLS(y, X)\n",
    "result = model.fit()\n",
    "print(\"모형의적합성_R2 :\",result.rsquared)\n",
    "print(\"P-value:\\n\",result.pvalues)\n",
    "result.summary()"
   ]
  },
  {
   "cell_type": "code",
   "execution_count": null,
   "metadata": {},
   "outputs": [],
   "source": [
    "# KOSDAQ_종가 변수 제거 -> 0.783\n",
    "X=df1[['전용면적','층','건축년도', '미국달러', '소비자물가지수']]\n",
    "y=df1['면적당가격']\n",
    "\n",
    "import statsmodels.api as sm\n",
    "\n",
    "model = sm.OLS(y, X)\n",
    "result = model.fit()\n",
    "print(\"모형의적합성_R2 :\",result.rsquared)\n",
    "print(\"P-value:\\n\",result.pvalues)\n",
    "result.summary()"
   ]
  },
  {
   "cell_type": "code",
   "execution_count": null,
   "metadata": {},
   "outputs": [],
   "source": [
    "# 소비자물가지수 변수 제거 -> 0.751\n",
    "X=df1[['전용면적','층','건축년도', '미국달러']]\n",
    "y=df1['면적당가격']\n",
    "\n",
    "import statsmodels.api as sm\n",
    "\n",
    "model = sm.OLS(y, X)\n",
    "result = model.fit()\n",
    "print(\"모형의적합성_R2 :\",result.rsquared)\n",
    "print(\"P-value:\\n\",result.pvalues)\n",
    "result.summary()"
   ]
  },
  {
   "cell_type": "code",
   "execution_count": null,
   "metadata": {},
   "outputs": [],
   "source": [
    "# 미국달러 변수 제거 -> 0.741\n",
    "X=df1[['전용면적','층','건축년도']]\n",
    "y=df1['면적당가격']\n",
    "\n",
    "import statsmodels.api as sm\n",
    "\n",
    "model = sm.OLS(y, X)\n",
    "result = model.fit()\n",
    "print(\"모형의적합성_R2 :\",result.rsquared)\n",
    "print(\"P-value:\\n\",result.pvalues)\n",
    "result.summary()"
   ]
  },
  {
   "cell_type": "code",
   "execution_count": null,
   "metadata": {},
   "outputs": [],
   "source": [
    "# 건축년도 변수 제거 -> 0.683\n",
    "X=df1[['전용면적','층']]\n",
    "y=df1['면적당가격']\n",
    "\n",
    "import statsmodels.api as sm\n",
    "\n",
    "model = sm.OLS(y, X)\n",
    "result = model.fit()\n",
    "print(\"모형의적합성_R2 :\",result.rsquared)\n",
    "print(\"P-value:\\n\",result.pvalues)\n",
    "result.summary()"
   ]
  },
  {
   "cell_type": "code",
   "execution_count": null,
   "metadata": {},
   "outputs": [],
   "source": [
    "# 층 변수 제거 -> 0.656\n",
    "X=df1[['전용면적']]\n",
    "y=df1['면적당가격']\n",
    "\n",
    "import statsmodels.api as sm\n",
    "\n",
    "model = sm.OLS(y, X)\n",
    "result = model.fit()\n",
    "print(\"모형의적합성_R2 :\",result.rsquared)\n",
    "print(\"P-value:\\n\",result.pvalues)\n",
    "result.summary()"
   ]
  },
  {
   "cell_type": "code",
   "execution_count": null,
   "metadata": {},
   "outputs": [],
   "source": []
  },
  {
   "cell_type": "code",
   "execution_count": null,
   "metadata": {},
   "outputs": [],
   "source": []
  },
  {
   "cell_type": "code",
   "execution_count": null,
   "metadata": {},
   "outputs": [],
   "source": []
  },
  {
   "cell_type": "code",
   "execution_count": null,
   "metadata": {},
   "outputs": [],
   "source": []
  },
  {
   "attachments": {},
   "cell_type": "markdown",
   "metadata": {},
   "source": [
    "## 스케일링"
   ]
  },
  {
   "cell_type": "code",
   "execution_count": null,
   "metadata": {},
   "outputs": [],
   "source": [
    " # 스케일링(StandardScaler)\n",
    "from sklearn.preprocessing import StandardScaler\n",
    "scaler = StandardScaler() \n",
    "df2 = scaler.fit_transform(df1) \n",
    "df3 = pd.DataFrame(df2,columns=df1.columns)\n",
    "df3.boxplot()"
   ]
  },
  {
   "cell_type": "code",
   "execution_count": null,
   "metadata": {},
   "outputs": [],
   "source": [
    "# 스케일링 (RobustScaler)\n",
    "from sklearn.preprocessing import RobustScaler\n",
    "scaler = RobustScaler() \n",
    "df2 = scaler.fit_transform(df1) \n",
    "df3 = pd.DataFrame(df2,columns=df1.columns)\n",
    "df3.boxplot()"
   ]
  },
  {
   "attachments": {},
   "cell_type": "markdown",
   "metadata": {},
   "source": [
    "## 교차검증"
   ]
  },
  {
   "cell_type": "code",
   "execution_count": 23,
   "metadata": {},
   "outputs": [
    {
     "data": {
      "text/plain": [
       "(1117750, 7)"
      ]
     },
     "execution_count": 23,
     "metadata": {},
     "output_type": "execute_result"
    }
   ],
   "source": [
    "#정규화\n",
    "from sklearn.preprocessing import StandardScaler\n",
    "\n",
    "scaler = StandardScaler()\n",
    "scaler.fit(df2)\n",
    "scaled_df = scaler.transform(df2)\n",
    "scaled_df.shape"
   ]
  },
  {
   "cell_type": "code",
   "execution_count": 24,
   "metadata": {},
   "outputs": [
    {
     "name": "stdout",
     "output_type": "stream",
     "text": [
      "(894200, 7) (223550, 7)\n"
     ]
    }
   ],
   "source": [
    "#학습용과 검증용을 8:2로 구분\n",
    "from sklearn.model_selection import train_test_split\n",
    "X_train, X_test, y_train, y_test = train_test_split(scaled_df, df_y, test_size=0.2, random_state=10)\n",
    "print(X_train.shape, X_test.shape)"
   ]
  },
  {
   "cell_type": "code",
   "execution_count": 25,
   "metadata": {},
   "outputs": [
    {
     "data": {
      "text/plain": [
       "LinearRegression()"
      ]
     },
     "execution_count": 25,
     "metadata": {},
     "output_type": "execute_result"
    }
   ],
   "source": [
    "from sklearn.linear_model import LinearRegression\n",
    "lin_reg = LinearRegression()\n",
    "lin_reg.fit(X_train, y_train)"
   ]
  },
  {
   "cell_type": "code",
   "execution_count": 26,
   "metadata": {},
   "outputs": [
    {
     "name": "stdout",
     "output_type": "stream",
     "text": [
      "382.7872851672895\n"
     ]
    }
   ],
   "source": [
    "# 평균제곱근오차 모형-> 오차 381\n",
    "from sklearn.metrics import mean_squared_error\n",
    "y_pred = lin_reg.predict(X_test)\n",
    "rms = np.sqrt(mean_squared_error(y_test, y_pred))\n",
    "print(rms)"
   ]
  },
  {
   "cell_type": "code",
   "execution_count": 27,
   "metadata": {},
   "outputs": [
    {
     "name": "stdout",
     "output_type": "stream",
     "text": [
      "252.40843824263192\n"
     ]
    }
   ],
   "source": [
    "# 의사결정 나무 모형 -> 오차 252\n",
    "from sklearn.tree import DecisionTreeRegressor\n",
    "tree_reg = DecisionTreeRegressor()\n",
    "tree_reg.fit(X_train, y_train)\n",
    "y_pred = tree_reg.predict(X_test)\n",
    "rms = np.sqrt(mean_squared_error(y_test, y_pred))\n",
    "print(rms)"
   ]
  },
  {
   "cell_type": "code",
   "execution_count": null,
   "metadata": {},
   "outputs": [],
   "source": [
    "# 랜덤 포레스트  -> 오차 193 로 가장 성능 좋은 모형\n",
    "from sklearn.ensemble import RandomForestRegressor\n",
    "forest_reg = RandomForestRegressor(n_jobs = -1) \n",
    "forest_reg.fit(X_train, y_train)\n",
    "\n",
    "y_pred = forest_reg.predict(X_test)\n",
    "rms = np.sqrt(mean_squared_error(y_test, y_pred))\n",
    "print(rms)"
   ]
  },
  {
   "cell_type": "code",
   "execution_count": null,
   "metadata": {},
   "outputs": [],
   "source": [
    "# 파라미터튜닝\n",
    "from sklearn.model_selection import GridSearchCV\n",
    "param_grid = [\n",
    " {'n_estimators': [3, 10, 30, 50, 100], 'max_features':[2, 4, 6, 8]},\n",
    " ]\n",
    " "
   ]
  },
  {
   "cell_type": "code",
   "execution_count": null,
   "metadata": {},
   "outputs": [],
   "source": [
    "from sklearn.model_selection import GridSearchCV\n",
    "forest_reg = RandomForestRegressor(random_state=0,n_jobs=-1)\n",
    "grid_search = GridSearchCV(forest_reg, param_grid, cv=2)\n",
    "grid_search.fit(X_train, y_train)"
   ]
  },
  {
   "cell_type": "code",
   "execution_count": null,
   "metadata": {},
   "outputs": [],
   "source": [
    "''' grid_search.best_params_\n",
    "'''"
   ]
  },
  {
   "cell_type": "code",
   "execution_count": null,
   "metadata": {},
   "outputs": [],
   "source": [
    "'''서포트벡터머신  -> 시간 너무 걸림 (에러 발생)\n",
    "from sklearn.svm import SVR\n",
    "svm_reg = SVR(kernel=\"linear\")\n",
    "svm_reg.fit(X_train, y_train)\n",
    "y_pred = svm_reg.predict(X_test)\n",
    "rms = np.sqrt(mean_squared_error(y_test, y_pred))\n",
    "print(rms)'''"
   ]
  },
  {
   "cell_type": "code",
   "execution_count": null,
   "metadata": {},
   "outputs": [],
   "source": []
  },
  {
   "cell_type": "code",
   "execution_count": null,
   "metadata": {},
   "outputs": [],
   "source": []
  }
 ],
 "metadata": {
  "kernelspec": {
   "display_name": "base",
   "language": "python",
   "name": "python3"
  },
  "language_info": {
   "codemirror_mode": {
    "name": "ipython",
    "version": 3
   },
   "file_extension": ".py",
   "mimetype": "text/x-python",
   "name": "python",
   "nbconvert_exporter": "python",
   "pygments_lexer": "ipython3",
   "version": "3.9.13"
  },
  "orig_nbformat": 4
 },
 "nbformat": 4,
 "nbformat_minor": 2
}
